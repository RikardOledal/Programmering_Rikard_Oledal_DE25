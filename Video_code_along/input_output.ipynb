{
 "cells": [
  {
   "cell_type": "markdown",
   "id": "cf23f8a2",
   "metadata": {},
   "source": [
    "# Input and outputs"
   ]
  },
  {
   "cell_type": "code",
   "execution_count": 1,
   "id": "23ed82f1",
   "metadata": {},
   "outputs": [
    {
     "name": "stdout",
     "output_type": "stream",
     "text": [
      "Hello world\n"
     ]
    }
   ],
   "source": [
    "print(\"Hello world\")"
   ]
  },
  {
   "cell_type": "code",
   "execution_count": 2,
   "id": "14e84663",
   "metadata": {},
   "outputs": [
    {
     "name": "stdout",
     "output_type": "stream",
     "text": [
      "My name is Rikard\n"
     ]
    }
   ],
   "source": [
    "print(\"My name is Rikard\")"
   ]
  },
  {
   "cell_type": "code",
   "execution_count": 4,
   "id": "262f0f6f",
   "metadata": {},
   "outputs": [
    {
     "name": "stdout",
     "output_type": "stream",
     "text": [
      "Your name is Lisa\n"
     ]
    }
   ],
   "source": [
    "name = \"Lisa\"\n",
    "print(f\"Your name is {name}\")"
   ]
  },
  {
   "cell_type": "markdown",
   "id": "48b9d140",
   "metadata": {},
   "source": []
  },
  {
   "cell_type": "markdown",
   "id": "9d6ae072",
   "metadata": {},
   "source": [
    "## Inputs"
   ]
  },
  {
   "cell_type": "code",
   "execution_count": 5,
   "id": "f3965872",
   "metadata": {},
   "outputs": [
    {
     "name": "stdout",
     "output_type": "stream",
     "text": [
      "Rikard is 43 years old\n"
     ]
    }
   ],
   "source": [
    "name = input(\"What is your name?\")\n",
    "age = input(\"How old are you?\")\n",
    "\n",
    "print(f\"{name} is {age} years old\")"
   ]
  },
  {
   "cell_type": "markdown",
   "id": "12634cfb",
   "metadata": {},
   "source": [
    "# type coercion"
   ]
  },
  {
   "cell_type": "code",
   "execution_count": 6,
   "id": "209c6883",
   "metadata": {},
   "outputs": [
    {
     "ename": "TypeError",
     "evalue": "can't multiply sequence by non-int of type 'float'",
     "output_type": "error",
     "traceback": [
      "\u001b[31m---------------------------------------------------------------------------\u001b[39m",
      "\u001b[31mTypeError\u001b[39m                                 Traceback (most recent call last)",
      "\u001b[36mCell\u001b[39m\u001b[36m \u001b[39m\u001b[32mIn[6]\u001b[39m\u001b[32m, line 4\u001b[39m\n\u001b[32m      1\u001b[39m gravity = \u001b[32m9.82\u001b[39m\n\u001b[32m      2\u001b[39m mass = \u001b[38;5;28minput\u001b[39m(\u001b[33m\"\u001b[39m\u001b[33mEnter your weight in kg: \u001b[39m\u001b[33m\"\u001b[39m)\n\u001b[32m----> \u001b[39m\u001b[32m4\u001b[39m force = \u001b[43mmass\u001b[49m\u001b[43m*\u001b[49m\u001b[43mgravity\u001b[49m\n",
      "\u001b[31mTypeError\u001b[39m: can't multiply sequence by non-int of type 'float'"
     ]
    }
   ],
   "source": [
    "gravity = 9.82\n",
    "mass = input(\"Enter your weight in kg: \")\n",
    "\n",
    "force = mass*gravity"
   ]
  },
  {
   "cell_type": "markdown",
   "id": "5cd85a06",
   "metadata": {},
   "source": []
  },
  {
   "cell_type": "code",
   "execution_count": 7,
   "id": "2c2a8b02",
   "metadata": {},
   "outputs": [
    {
     "data": {
      "text/plain": [
       "str"
      ]
     },
     "execution_count": 7,
     "metadata": {},
     "output_type": "execute_result"
    }
   ],
   "source": [
    "type(mass)"
   ]
  },
  {
   "cell_type": "code",
   "execution_count": 8,
   "id": "236f0e2c",
   "metadata": {},
   "outputs": [
    {
     "data": {
      "text/plain": [
       "float"
      ]
     },
     "execution_count": 8,
     "metadata": {},
     "output_type": "execute_result"
    }
   ],
   "source": [
    "type(gravity)"
   ]
  },
  {
   "cell_type": "code",
   "execution_count": 10,
   "id": "702cb7ab",
   "metadata": {},
   "outputs": [
    {
     "name": "stdout",
     "output_type": "stream",
     "text": [
      "force =1227.5N\n"
     ]
    }
   ],
   "source": [
    "gravity = 9.82\n",
    "mass = float(input(\"Enter your weight in kg: \"))\n",
    "\n",
    "force = mass*gravity\n",
    "print(f\"{force =}N\")"
   ]
  },
  {
   "cell_type": "code",
   "execution_count": 11,
   "id": "8fcca97e",
   "metadata": {},
   "outputs": [
    {
     "ename": "ValueError",
     "evalue": "could not convert string to float: 'five'",
     "output_type": "error",
     "traceback": [
      "\u001b[31m---------------------------------------------------------------------------\u001b[39m",
      "\u001b[31mValueError\u001b[39m                                Traceback (most recent call last)",
      "\u001b[36mCell\u001b[39m\u001b[36m \u001b[39m\u001b[32mIn[11]\u001b[39m\u001b[32m, line 2\u001b[39m\n\u001b[32m      1\u001b[39m number = \u001b[33m\"\u001b[39m\u001b[33mfive\u001b[39m\u001b[33m\"\u001b[39m\n\u001b[32m----> \u001b[39m\u001b[32m2\u001b[39m \u001b[38;5;28;43mfloat\u001b[39;49m\u001b[43m(\u001b[49m\u001b[43mnumber\u001b[49m\u001b[43m)\u001b[49m\n",
      "\u001b[31mValueError\u001b[39m: could not convert string to float: 'five'"
     ]
    }
   ],
   "source": [
    "number = \"five\"\n",
    "float(number)"
   ]
  },
  {
   "cell_type": "markdown",
   "id": "64938980",
   "metadata": {},
   "source": [
    "## Some more types"
   ]
  },
  {
   "cell_type": "code",
   "execution_count": 15,
   "id": "038ef3bd",
   "metadata": {},
   "outputs": [
    {
     "data": {
      "text/plain": [
       "(int, str, bool, tuple)"
      ]
     },
     "execution_count": 15,
     "metadata": {},
     "output_type": "execute_result"
    }
   ],
   "source": [
    "radius = 7\n",
    "geometry =\"circle\"\n",
    "is_unit_circle = False\n",
    "screen_inches =6,4\n",
    "\n",
    "type(radius), type(geometry), type(is_unit_circle), type(screen_inches)"
   ]
  },
  {
   "cell_type": "code",
   "execution_count": null,
   "id": "02c8daef",
   "metadata": {},
   "outputs": [],
   "source": []
  }
 ],
 "metadata": {
  "kernelspec": {
   "display_name": "Programmering_Rikard_Oledal_DE25",
   "language": "python",
   "name": "python3"
  },
  "language_info": {
   "codemirror_mode": {
    "name": "ipython",
    "version": 3
   },
   "file_extension": ".py",
   "mimetype": "text/x-python",
   "name": "python",
   "nbconvert_exporter": "python",
   "pygments_lexer": "ipython3",
   "version": "3.12.10"
  }
 },
 "nbformat": 4,
 "nbformat_minor": 5
}
